{
 "cells": [
  {
   "cell_type": "code",
   "execution_count": 31,
   "metadata": {},
   "outputs": [],
   "source": [
    "from pandas_datareader import data\n",
    "from datetime import datetime\n",
    "from bokeh.plotting import show, output_file, figure\n",
    "from bokeh.embed import components\n",
    "from bokeh.resources import CDN\n",
    "import pandas\n",
    "\n",
    "def inc_dec(c, o):\n",
    "    if c > o:\n",
    "        return \"Increase\"\n",
    "    elif c < o:\n",
    "        return \"Decrease\"\n",
    "    else:\n",
    "        return \"Equal\"\n",
    "\n",
    "\n",
    "start=datetime(2015,3,1)\n",
    "end=datetime(2016,3,10)\n",
    "\n",
    "df_increase=df[df.close > df.open]\n",
    "df_decrease=df[df.close < df.open]\n",
    "\n",
    "df=data.DataReader(name=\"AAPL\",data_source=\"iex\",start=start,end=end)\n",
    "df.index = pandas.to_datetime(df.index)\n",
    "\n",
    "df[\"status\"] = [inc_dec(c, o) for c, o in zip(df.close, df.open)]\n",
    "df[\"middle\"] = (df.open+df.close)/2\n",
    "df[\"height\"] = abs(df.close-df.open)\n",
    "\n",
    "p=figure(x_axis_type='datetime',width=1000,height=300,sizing_mode=\"scale_width\")\n",
    "p.title.text=\"Candlestick\"\n",
    "p.grid.grid_line_alpha=0.3\n",
    "\n",
    "hours_12 = 12*60*60*1000\n",
    "\n",
    "p.segment(df.index,df.high, df.index, df.low, color=\"Black\")\n",
    "\n",
    "p.rect(df.index[df.status==\"Increase\"],df.middle[df.status==\"Increase\"],\n",
    "       hours_12,df.height[df.status==\"Increase\"],fill_color=\"#CCFFFF\", line_color=\"black\")\n",
    "p.rect(df.index[df.status==\"Decrease\"],df.middle[df.status==\"Decrease\"],\n",
    "       hours_12,df.height[df.status==\"Decrease\"],fill_color=\"#FF3333\", line_color=\"black\")\n",
    "\n",
    "\n",
    "#output_file(\"CS.html\")\n",
    "#show(p)\n",
    "script1, div1 = components(p)\n",
    "cdn_js=CDN.js_files\n",
    "cdn_css=CDN.css_files"
   ]
  },
  {
   "cell_type": "code",
   "execution_count": null,
   "metadata": {},
   "outputs": [],
   "source": []
  },
  {
   "cell_type": "code",
   "execution_count": null,
   "metadata": {},
   "outputs": [],
   "source": []
  }
 ],
 "metadata": {
  "kernelspec": {
   "display_name": "Python 3",
   "language": "python",
   "name": "python3"
  },
  "language_info": {
   "codemirror_mode": {
    "name": "ipython",
    "version": 3
   },
   "file_extension": ".py",
   "mimetype": "text/x-python",
   "name": "python",
   "nbconvert_exporter": "python",
   "pygments_lexer": "ipython3",
   "version": "3.6.4"
  }
 },
 "nbformat": 4,
 "nbformat_minor": 2
}
